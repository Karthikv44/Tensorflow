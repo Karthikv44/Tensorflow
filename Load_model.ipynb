{
  "nbformat": 4,
  "nbformat_minor": 0,
  "metadata": {
    "colab": {
      "name": "Load_model.ipynb",
      "provenance": [],
      "authorship_tag": "ABX9TyOC61EK6rIRkc8fwWMstF8k",
      "include_colab_link": true
    },
    "kernelspec": {
      "name": "python3",
      "display_name": "Python 3"
    },
    "language_info": {
      "name": "python"
    },
    "accelerator": "GPU"
  },
  "cells": [
    {
      "cell_type": "markdown",
      "metadata": {
        "id": "view-in-github",
        "colab_type": "text"
      },
      "source": [
        "<a href=\"https://colab.research.google.com/github/Karthikv44/Tensorflow/blob/main/Load_model.ipynb\" target=\"_parent\"><img src=\"https://colab.research.google.com/assets/colab-badge.svg\" alt=\"Open In Colab\"/></a>"
      ]
    },
    {
      "cell_type": "code",
      "execution_count": 1,
      "metadata": {
        "colab": {
          "base_uri": "https://localhost:8080/"
        },
        "id": "NPUiENulmMVZ",
        "outputId": "d7ff31e9-8be1-4dfd-a016-d0e945f30db1"
      },
      "outputs": [
        {
          "output_type": "stream",
          "name": "stdout",
          "text": [
            "Downloading data from https://storage.googleapis.com/tensorflow/tf-keras-datasets/mnist.npz\n",
            "11493376/11490434 [==============================] - 0s 0us/step\n",
            "11501568/11490434 [==============================] - 0s 0us/step\n"
          ]
        },
        {
          "output_type": "stream",
          "name": "stderr",
          "text": [
            "/usr/local/lib/python3.7/dist-packages/keras/optimizer_v2/adam.py:105: UserWarning: The `lr` argument is deprecated, use `learning_rate` instead.\n",
            "  super(Adam, self).__init__(name, **kwargs)\n"
          ]
        },
        {
          "output_type": "stream",
          "name": "stdout",
          "text": [
            "Epoch 1/5\n",
            "938/938 - 5s - loss: 0.3046 - sparse_categorical_accuracy: 0.9139 - 5s/epoch - 5ms/step\n",
            "Epoch 2/5\n",
            "938/938 - 2s - loss: 0.1376 - sparse_categorical_accuracy: 0.9598 - 2s/epoch - 2ms/step\n",
            "Epoch 3/5\n",
            "938/938 - 2s - loss: 0.0963 - sparse_categorical_accuracy: 0.9722 - 2s/epoch - 3ms/step\n",
            "Epoch 4/5\n",
            "938/938 - 2s - loss: 0.0733 - sparse_categorical_accuracy: 0.9786 - 2s/epoch - 3ms/step\n",
            "Epoch 5/5\n",
            "938/938 - 2s - loss: 0.0579 - sparse_categorical_accuracy: 0.9832 - 2s/epoch - 2ms/step\n",
            "Evaluate:\n",
            "313/313 - 1s - loss: 0.0811 - sparse_categorical_accuracy: 0.9744 - 836ms/epoch - 3ms/step\n",
            "INFO:tensorflow:Assets written to: nn/assets\n"
          ]
        }
      ],
      "source": [
        "import tensorflow as tf\n",
        "from tensorflow import keras\n",
        "import numpy as np\n",
        "\n",
        "mnist = keras.datasets.mnist\n",
        "\n",
        "(x_train, y_train), (x_test, y_test) = mnist.load_data()\n",
        "\n",
        "# normalize\n",
        "x_train, x_test = x_train / 255.0, x_test / 255.0\n",
        "\n",
        "\n",
        "# Feed forward neural network\n",
        "model = keras.models.Sequential([\n",
        "    keras.layers.Flatten(input_shape=(28,28)),\n",
        "    keras.layers.Dense(128, activation='relu'),\n",
        "    keras.layers.Dense(10),\n",
        "])\n",
        "\n",
        "# config\n",
        "loss = keras.losses.SparseCategoricalCrossentropy(from_logits=True)\n",
        "optim = keras.optimizers.Adam(lr=0.001) # \"adam\"\n",
        "metrics = [keras.metrics.SparseCategoricalAccuracy()] # \"accuracy\"\n",
        "\n",
        "# compile\n",
        "model.compile(loss=loss, optimizer=optim, metrics=metrics)\n",
        "\n",
        "# fit/training\n",
        "model.fit(x_train, y_train, batch_size=64, epochs=5, shuffle=True, verbose=2)\n",
        "\n",
        "print(\"Evaluate:\")\n",
        "model.evaluate(x_test,  y_test, verbose=2)\n",
        "\n",
        "# 1) Save whole model\n",
        "# two formats: SavedModel or HDF5\n",
        "model.save(\"nn\")  # no file ending = SavedModel\n",
        "model.save(\"nn.h5\")  # .h5 = HDF5\n",
        "\n",
        "new_model = keras.models.load_model(\"nn.h5\")\n",
        "\n"
      ]
    },
    {
      "cell_type": "code",
      "source": [
        "# 2) save only weights\n",
        "model.save_weights(\"nn_weights.h5\")\n",
        "\n",
        "# initilaize model first:\n",
        "# model = keras.Sequential([...])\n",
        "model.load_weights(\"nn_weights.h5\")\n",
        "\n"
      ],
      "metadata": {
        "id": "c2w7PmDamlXK"
      },
      "execution_count": 2,
      "outputs": []
    },
    {
      "cell_type": "code",
      "source": [
        "# 3) save only architecture, to_json\n",
        "json_string = model.to_json()\n",
        "\n",
        "with open(\"nn_model.json\", \"w\") as f:\n",
        "    f.write(json_string)\n",
        "\n",
        "with open(\"nn_model.json\", \"r\") as f:\n",
        "    loaded_json_string = f.read()\n",
        "\n",
        "new_model = keras.models.model_from_json(loaded_json_string)\n",
        "print(new_model.summary())\n"
      ],
      "metadata": {
        "colab": {
          "base_uri": "https://localhost:8080/"
        },
        "id": "XqiZXhWlmwbd",
        "outputId": "10d1612c-2dae-4276-c3a0-f905c7839ee8"
      },
      "execution_count": 3,
      "outputs": [
        {
          "output_type": "stream",
          "name": "stdout",
          "text": [
            "Model: \"sequential\"\n",
            "_________________________________________________________________\n",
            " Layer (type)                Output Shape              Param #   \n",
            "=================================================================\n",
            " flatten (Flatten)           (None, 784)               0         \n",
            "                                                                 \n",
            " dense (Dense)               (None, 128)               100480    \n",
            "                                                                 \n",
            " dense_1 (Dense)             (None, 10)                1290      \n",
            "                                                                 \n",
            "=================================================================\n",
            "Total params: 101,770\n",
            "Trainable params: 101,770\n",
            "Non-trainable params: 0\n",
            "_________________________________________________________________\n",
            "None\n"
          ]
        }
      ]
    },
    {
      "cell_type": "code",
      "source": [
        ""
      ],
      "metadata": {
        "id": "uKan1yYemzZf"
      },
      "execution_count": null,
      "outputs": []
    }
  ]
}