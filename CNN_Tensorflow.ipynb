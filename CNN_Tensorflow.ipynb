{
  "nbformat": 4,
  "nbformat_minor": 0,
  "metadata": {
    "colab": {
      "name": "CNN_Tensorflow.ipynb",
      "provenance": [],
      "authorship_tag": "ABX9TyOXCKrHOZF+KrZ/Bc3D54EQ",
      "include_colab_link": true
    },
    "kernelspec": {
      "name": "python3",
      "display_name": "Python 3"
    },
    "language_info": {
      "name": "python"
    },
    "accelerator": "GPU"
  },
  "cells": [
    {
      "cell_type": "markdown",
      "metadata": {
        "id": "view-in-github",
        "colab_type": "text"
      },
      "source": [
        "<a href=\"https://colab.research.google.com/github/Karthikv44/Tensorflow/blob/main/CNN_Tensorflow.ipynb\" target=\"_parent\"><img src=\"https://colab.research.google.com/assets/colab-badge.svg\" alt=\"Open In Colab\"/></a>"
      ]
    },
    {
      "cell_type": "code",
      "execution_count": 1,
      "metadata": {
        "colab": {
          "base_uri": "https://localhost:8080/"
        },
        "id": "K5G4uMuhUdlE",
        "outputId": "bb8ee729-eca4-40fb-995e-1c3b8533860e"
      },
      "outputs": [
        {
          "output_type": "stream",
          "name": "stdout",
          "text": [
            "Found GPU at: /device:GPU:0\n"
          ]
        }
      ],
      "source": [
        "%tensorflow_version 2.x\n",
        "import tensorflow as tf\n",
        "device_name = tf.test.gpu_device_name()\n",
        "if device_name != '/device:GPU:0':\n",
        "  raise SystemError('GPU device not found')\n",
        "print('Found GPU at: {}'.format(device_name))\n"
      ]
    },
    {
      "cell_type": "code",
      "source": [
        "from tensorflow import keras\n",
        "from tensorflow.keras import layers\n",
        "\n",
        "import matplotlib.pyplot as plt\n",
        "\n",
        "cifar10 = keras.datasets.cifar10\n",
        "\n",
        "(train_images, train_labels), (test_images, test_labels) = cifar10.load_data()\n",
        "\n",
        "print(train_images.shape) # 50000, 32, 32, 3\n",
        "\n",
        "# Normalize: 0,255 -> 0,1\n",
        "train_images, test_images = train_images / 255.0, test_images / 255.0\n",
        "\n",
        "class_names = ['airplane', 'automobile', 'bird', 'cat', 'deer',\n",
        "               'dog', 'frog', 'horse', 'ship', 'truck']\n",
        "\n",
        "\n",
        "\n",
        "\n",
        "# model...\n",
        "model = keras.models.Sequential()\n",
        "model.add(layers.Conv2D(32, (3,3), strides=(1,1), padding=\"valid\", activation='relu', input_shape=(32,32,3)))\n",
        "model.add(layers.MaxPool2D((2,2)))\n",
        "model.add(layers.Conv2D(32, 3, activation='relu'))\n",
        "model.add(layers.MaxPool2D((2,2)))\n",
        "model.add(layers.Flatten())\n",
        "model.add(layers.Dense(64, activation='relu'))\n",
        "model.add(layers.Dense(10))\n",
        "print(model.summary())\n",
        "#import sys; sys.exit()\n",
        "\n",
        "# loss and optimizer\n",
        "loss = keras.losses.SparseCategoricalCrossentropy(from_logits=True)\n",
        "optim = keras.optimizers.Adam(lr=0.001)\n",
        "metrics = [\"accuracy\"]\n",
        "\n",
        "model.compile(optimizer=optim, loss=loss, metrics=metrics)\n",
        "\n",
        "# training\n",
        "batch_size = 64\n",
        "epochs = 30\n",
        "\n",
        "model.fit(train_images, train_labels, epochs=epochs,\n",
        "          batch_size=batch_size, verbose=2)\n",
        "\n",
        "# evaulate\n",
        "model.evaluate(test_images,  test_labels, batch_size=batch_size, verbose=2)\n"
      ],
      "metadata": {
        "colab": {
          "base_uri": "https://localhost:8080/"
        },
        "id": "82HKXmuhVA23",
        "outputId": "29e52894-1778-4ce0-e0c6-1e0065e4e7ab"
      },
      "execution_count": 4,
      "outputs": [
        {
          "output_type": "stream",
          "name": "stdout",
          "text": [
            "(50000, 32, 32, 3)\n",
            "Model: \"sequential_1\"\n",
            "_________________________________________________________________\n",
            " Layer (type)                Output Shape              Param #   \n",
            "=================================================================\n",
            " conv2d_2 (Conv2D)           (None, 30, 30, 32)        896       \n",
            "                                                                 \n",
            " max_pooling2d_2 (MaxPooling  (None, 15, 15, 32)       0         \n",
            " 2D)                                                             \n",
            "                                                                 \n",
            " conv2d_3 (Conv2D)           (None, 13, 13, 32)        9248      \n",
            "                                                                 \n",
            " max_pooling2d_3 (MaxPooling  (None, 6, 6, 32)         0         \n",
            " 2D)                                                             \n",
            "                                                                 \n",
            " flatten_1 (Flatten)         (None, 1152)              0         \n",
            "                                                                 \n",
            " dense_2 (Dense)             (None, 64)                73792     \n",
            "                                                                 \n",
            " dense_3 (Dense)             (None, 10)                650       \n",
            "                                                                 \n",
            "=================================================================\n",
            "Total params: 84,586\n",
            "Trainable params: 84,586\n",
            "Non-trainable params: 0\n",
            "_________________________________________________________________\n",
            "None\n"
          ]
        },
        {
          "output_type": "stream",
          "name": "stderr",
          "text": [
            "/usr/local/lib/python3.7/dist-packages/keras/optimizer_v2/adam.py:105: UserWarning: The `lr` argument is deprecated, use `learning_rate` instead.\n",
            "  super(Adam, self).__init__(name, **kwargs)\n"
          ]
        },
        {
          "output_type": "stream",
          "name": "stdout",
          "text": [
            "Epoch 1/30\n",
            "782/782 - 4s - loss: 1.5598 - accuracy: 0.4364 - 4s/epoch - 6ms/step\n",
            "Epoch 2/30\n",
            "782/782 - 4s - loss: 1.2366 - accuracy: 0.5617 - 4s/epoch - 5ms/step\n",
            "Epoch 3/30\n",
            "782/782 - 4s - loss: 1.0923 - accuracy: 0.6158 - 4s/epoch - 5ms/step\n",
            "Epoch 4/30\n",
            "782/782 - 4s - loss: 1.0094 - accuracy: 0.6468 - 4s/epoch - 5ms/step\n",
            "Epoch 5/30\n",
            "782/782 - 4s - loss: 0.9511 - accuracy: 0.6691 - 4s/epoch - 5ms/step\n",
            "Epoch 6/30\n",
            "782/782 - 4s - loss: 0.8981 - accuracy: 0.6894 - 4s/epoch - 5ms/step\n",
            "Epoch 7/30\n",
            "782/782 - 4s - loss: 0.8595 - accuracy: 0.7002 - 4s/epoch - 5ms/step\n",
            "Epoch 8/30\n",
            "782/782 - 4s - loss: 0.8200 - accuracy: 0.7164 - 4s/epoch - 5ms/step\n",
            "Epoch 9/30\n",
            "782/782 - 4s - loss: 0.7941 - accuracy: 0.7242 - 4s/epoch - 5ms/step\n",
            "Epoch 10/30\n",
            "782/782 - 4s - loss: 0.7642 - accuracy: 0.7346 - 4s/epoch - 5ms/step\n",
            "Epoch 11/30\n",
            "782/782 - 4s - loss: 0.7340 - accuracy: 0.7450 - 4s/epoch - 5ms/step\n",
            "Epoch 12/30\n",
            "782/782 - 4s - loss: 0.7077 - accuracy: 0.7535 - 4s/epoch - 5ms/step\n",
            "Epoch 13/30\n",
            "782/782 - 4s - loss: 0.6827 - accuracy: 0.7608 - 4s/epoch - 5ms/step\n",
            "Epoch 14/30\n",
            "782/782 - 4s - loss: 0.6680 - accuracy: 0.7671 - 4s/epoch - 5ms/step\n",
            "Epoch 15/30\n",
            "782/782 - 4s - loss: 0.6470 - accuracy: 0.7747 - 4s/epoch - 5ms/step\n",
            "Epoch 16/30\n",
            "782/782 - 4s - loss: 0.6267 - accuracy: 0.7819 - 4s/epoch - 5ms/step\n",
            "Epoch 17/30\n",
            "782/782 - 4s - loss: 0.6096 - accuracy: 0.7875 - 4s/epoch - 5ms/step\n",
            "Epoch 18/30\n",
            "782/782 - 4s - loss: 0.5853 - accuracy: 0.7955 - 4s/epoch - 5ms/step\n",
            "Epoch 19/30\n",
            "782/782 - 4s - loss: 0.5788 - accuracy: 0.7980 - 4s/epoch - 5ms/step\n",
            "Epoch 20/30\n",
            "782/782 - 4s - loss: 0.5612 - accuracy: 0.8024 - 4s/epoch - 5ms/step\n",
            "Epoch 21/30\n",
            "782/782 - 4s - loss: 0.5456 - accuracy: 0.8088 - 4s/epoch - 5ms/step\n",
            "Epoch 22/30\n",
            "782/782 - 4s - loss: 0.5270 - accuracy: 0.8162 - 4s/epoch - 5ms/step\n",
            "Epoch 23/30\n",
            "782/782 - 4s - loss: 0.5154 - accuracy: 0.8191 - 4s/epoch - 5ms/step\n",
            "Epoch 24/30\n",
            "782/782 - 4s - loss: 0.5005 - accuracy: 0.8233 - 4s/epoch - 5ms/step\n",
            "Epoch 25/30\n",
            "782/782 - 4s - loss: 0.4906 - accuracy: 0.8284 - 4s/epoch - 5ms/step\n",
            "Epoch 26/30\n",
            "782/782 - 4s - loss: 0.4731 - accuracy: 0.8340 - 4s/epoch - 5ms/step\n",
            "Epoch 27/30\n",
            "782/782 - 4s - loss: 0.4642 - accuracy: 0.8359 - 4s/epoch - 5ms/step\n",
            "Epoch 28/30\n",
            "782/782 - 4s - loss: 0.4493 - accuracy: 0.8421 - 4s/epoch - 5ms/step\n",
            "Epoch 29/30\n",
            "782/782 - 4s - loss: 0.4396 - accuracy: 0.8439 - 4s/epoch - 5ms/step\n",
            "Epoch 30/30\n",
            "782/782 - 4s - loss: 0.4317 - accuracy: 0.8474 - 4s/epoch - 5ms/step\n",
            "157/157 - 1s - loss: 1.1678 - accuracy: 0.6792 - 713ms/epoch - 5ms/step\n"
          ]
        },
        {
          "output_type": "execute_result",
          "data": {
            "text/plain": [
              "[1.1678192615509033, 0.6791999936103821]"
            ]
          },
          "metadata": {},
          "execution_count": 4
        }
      ]
    },
    {
      "cell_type": "code",
      "source": [
        ""
      ],
      "metadata": {
        "id": "6CI1cBIoV2_4"
      },
      "execution_count": null,
      "outputs": []
    }
  ]
}